{
 "cells": [
  {
   "cell_type": "code",
   "execution_count": 1,
   "id": "46ddae9b-69b8-472c-adef-bd2224f89dfa",
   "metadata": {},
   "outputs": [],
   "source": [
    "import requests\n",
    "from bs4 import BeautifulSoup\n",
    "import pandas as pd\n",
    "import numpy as np"
   ]
  },
  {
   "cell_type": "code",
   "execution_count": 2,
   "id": "718d2c88-d0eb-4ba7-8cce-12b5113c3fff",
   "metadata": {},
   "outputs": [],
   "source": [
    "def getTitle(productPg):\n",
    "    return productPg.find(\"h1\").text"
   ]
  },
  {
   "cell_type": "code",
   "execution_count": 3,
   "id": "c4e36bd5-1eee-4214-b47b-9529be786076",
   "metadata": {},
   "outputs": [],
   "source": [
    "def getGenre(productPg):\n",
    "    genre=productPg.find_all(\"li\")\n",
    "    return genre[2].find(\"a\").text"
   ]
  },
  {
   "cell_type": "code",
   "execution_count": 4,
   "id": "a78bec28-6c62-4549-94d0-a06a69f16ce8",
   "metadata": {},
   "outputs": [],
   "source": [
    "def getPrice(productPg):\n",
    "    return productPg.find(\"p\",attrs={'class':\"price_color\"}).text"
   ]
  },
  {
   "cell_type": "code",
   "execution_count": 5,
   "id": "9fd154e6-73af-4181-a773-c102760a8497",
   "metadata": {},
   "outputs": [],
   "source": [
    "def getAvailability(productPg):\n",
    "    return productPg.find(\"p\",attrs={'class':\"instock availability\"}).text"
   ]
  },
  {
   "cell_type": "code",
   "execution_count": 6,
   "id": "d984f49f-faa1-4ef7-a559-841bedf68cd3",
   "metadata": {},
   "outputs": [],
   "source": [
    "def getRating(productPg):\n",
    "    return ((productPg.find_all(\"p\"))[2].get('class'))[1]"
   ]
  },
  {
   "cell_type": "code",
   "execution_count": 7,
   "id": "a7880b34-6e84-457d-8e10-369e4f822bc3",
   "metadata": {},
   "outputs": [],
   "source": [
    "response=requests.get('https://books.toscrape.com/')\n",
    "html_file=BeautifulSoup(response.content,'html.parser')\n",
    "links=html_file.find_all(\"h3\")\n",
    "dict={'Title':[],'Genre':[],'Availability':[],'Price':[],'Rating':[]}\n",
    "for link in links:\n",
    "    final_link=\"https://books.toscrape.com/\"+link.find(\"a\").get('href')\n",
    "    product=requests.get(final_link)\n",
    "    productWebPg=BeautifulSoup(product.content,'html.parser')\n",
    "    dict['Title'].append(getTitle(productWebPg))\n",
    "    dict['Genre'].append(getGenre(productWebPg))\n",
    "    dict['Price'].append(getPrice(productWebPg))\n",
    "    dict['Availability'].append(getAvailability(productWebPg))\n",
    "    dict['Rating'].append(getRating(productWebPg))\n",
    "df=pd.DataFrame.from_dict(dict)\n",
    "df['Title'].replace('',np.nan,inplace=True)\n",
    "df.dropna(subset=['Title'],inplace=True)\n",
    "df.to_csv('output.csv')"
   ]
  }
 ],
 "metadata": {
  "kernelspec": {
   "display_name": "Python 3 (ipykernel)",
   "language": "python",
   "name": "python3"
  },
  "language_info": {
   "codemirror_mode": {
    "name": "ipython",
    "version": 3
   },
   "file_extension": ".py",
   "mimetype": "text/x-python",
   "name": "python",
   "nbconvert_exporter": "python",
   "pygments_lexer": "ipython3",
   "version": "3.11.5"
  }
 },
 "nbformat": 4,
 "nbformat_minor": 5
}
